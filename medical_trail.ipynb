{
 "cells": [
  {
   "cell_type": "code",
   "execution_count": 25,
   "metadata": {},
   "outputs": [],
   "source": [
    "import pandas as pd\n",
    "import numpy as np\n",
    "import matplotlib.pyplot as plt\n",
    "%matplotlib inline\n",
    "\n",
    "import warnings\n",
    "\n",
    "warnings.filterwarnings('ignore')"
   ]
  },
  {
   "cell_type": "code",
   "execution_count": 26,
   "metadata": {},
   "outputs": [
    {
     "name": "stdout",
     "output_type": "stream",
     "text": [
      "Admin CSV:\n",
      "   ID    Med  Admin Date     Units\n",
      "0   1  Med A  02/07/2012  1,500.00\n",
      "1   1  Med A  06/07/2012  1,500.00\n",
      "2   1  Med A  09/07/2012  1,500.00\n",
      "3   1  Med A  11/07/2012  1,500.00\n",
      "4   1  Med A  13/07/2012  1,500.00\n",
      "\n",
      "Lab CSV:\n",
      "    ID DRAW_DATE LAB_RESULT_CODE LAB_VALUE\n",
      "0  1.0    04-Jul           LAB A       679\n",
      "1  1.0    01-Aug           LAB A       621\n",
      "2  1.0    05-Sep           LAB A       915\n",
      "3  1.0    03-Oct           LAB A       848\n",
      "4  1.0    07-Nov           LAB A       845\n"
     ]
    }
   ],
   "source": [
    "admin = pd.read_csv('Admin.csv')\n",
    "lab = pd.read_csv('Labs.csv')\n",
    "\n",
    "adminDF = pd.DataFrame(admin)\n",
    "labDF = pd.DataFrame(lab)\n",
    "\n",
    "print(f\"Admin CSV:\\n{adminDF.head()}\\n\")\n",
    "print(f\"Lab CSV:\\n{labDF.head()}\")"
   ]
  },
  {
   "cell_type": "code",
   "execution_count": 27,
   "metadata": {},
   "outputs": [
    {
     "name": "stdout",
     "output_type": "stream",
     "text": [
      "<class 'pandas.core.frame.DataFrame'>\n",
      "RangeIndex: 2022 entries, 0 to 2021\n",
      "Data columns (total 4 columns):\n",
      " #   Column      Non-Null Count  Dtype \n",
      "---  ------      --------------  ----- \n",
      " 0   ID          2022 non-null   int64 \n",
      " 1   Med         2022 non-null   object\n",
      " 2   Admin Date  2022 non-null   object\n",
      " 3   Units       2022 non-null   object\n",
      "dtypes: int64(1), object(3)\n",
      "memory usage: 63.3+ KB\n",
      "<class 'pandas.core.frame.DataFrame'>\n",
      "RangeIndex: 2397 entries, 0 to 2396\n",
      "Data columns (total 4 columns):\n",
      " #   Column           Non-Null Count  Dtype  \n",
      "---  ------           --------------  -----  \n",
      " 0   ID               2095 non-null   float64\n",
      " 1   DRAW_DATE        2397 non-null   object \n",
      " 2   LAB_RESULT_CODE  2397 non-null   object \n",
      " 3   LAB_VALUE        2397 non-null   object \n",
      "dtypes: float64(1), object(3)\n",
      "memory usage: 75.0+ KB\n"
     ]
    },
    {
     "data": {
      "text/plain": [
       "(None, None)"
      ]
     },
     "execution_count": 27,
     "metadata": {},
     "output_type": "execute_result"
    }
   ],
   "source": [
    "adminDF.info(), labDF.info()"
   ]
  },
  {
   "cell_type": "code",
   "execution_count": 28,
   "metadata": {},
   "outputs": [],
   "source": [
    "adminDF.columns = ['Id', 'med', 'admin_date', 'units']\n",
    "labDF.columns = ['Id', 'draw_date', 'lab_result_code', 'lab_value']"
   ]
  },
  {
   "cell_type": "code",
   "execution_count": 29,
   "metadata": {},
   "outputs": [],
   "source": [
    "adminDF['units'] = adminDF['units'].str.replace(',','').astype('float64')\n",
    "labDF['lab_value'] = pd.to_numeric(labDF['lab_value'], errors='coerce')"
   ]
  },
  {
   "cell_type": "code",
   "execution_count": 30,
   "metadata": {},
   "outputs": [
    {
     "data": {
      "text/html": [
       "<div>\n",
       "<style scoped>\n",
       "    .dataframe tbody tr th:only-of-type {\n",
       "        vertical-align: middle;\n",
       "    }\n",
       "\n",
       "    .dataframe tbody tr th {\n",
       "        vertical-align: top;\n",
       "    }\n",
       "\n",
       "    .dataframe thead th {\n",
       "        text-align: right;\n",
       "    }\n",
       "</style>\n",
       "<table border=\"1\" class=\"dataframe\">\n",
       "  <thead>\n",
       "    <tr style=\"text-align: right;\">\n",
       "      <th></th>\n",
       "      <th>Id</th>\n",
       "      <th>med</th>\n",
       "      <th>admin_date</th>\n",
       "      <th>units</th>\n",
       "    </tr>\n",
       "  </thead>\n",
       "  <tbody>\n",
       "    <tr>\n",
       "      <th>0</th>\n",
       "      <td>1</td>\n",
       "      <td>Med A</td>\n",
       "      <td>2012-07</td>\n",
       "      <td>1500.0</td>\n",
       "    </tr>\n",
       "    <tr>\n",
       "      <th>1</th>\n",
       "      <td>1</td>\n",
       "      <td>Med A</td>\n",
       "      <td>2012-07</td>\n",
       "      <td>1500.0</td>\n",
       "    </tr>\n",
       "    <tr>\n",
       "      <th>2</th>\n",
       "      <td>1</td>\n",
       "      <td>Med A</td>\n",
       "      <td>2012-07</td>\n",
       "      <td>1500.0</td>\n",
       "    </tr>\n",
       "    <tr>\n",
       "      <th>3</th>\n",
       "      <td>1</td>\n",
       "      <td>Med A</td>\n",
       "      <td>2012-07</td>\n",
       "      <td>1500.0</td>\n",
       "    </tr>\n",
       "    <tr>\n",
       "      <th>4</th>\n",
       "      <td>1</td>\n",
       "      <td>Med A</td>\n",
       "      <td>2012-07</td>\n",
       "      <td>1500.0</td>\n",
       "    </tr>\n",
       "    <tr>\n",
       "      <th>...</th>\n",
       "      <td>...</td>\n",
       "      <td>...</td>\n",
       "      <td>...</td>\n",
       "      <td>...</td>\n",
       "    </tr>\n",
       "    <tr>\n",
       "      <th>2017</th>\n",
       "      <td>129</td>\n",
       "      <td>Med A</td>\n",
       "      <td>2012-08</td>\n",
       "      <td>5200.0</td>\n",
       "    </tr>\n",
       "    <tr>\n",
       "      <th>2018</th>\n",
       "      <td>129</td>\n",
       "      <td>Med A</td>\n",
       "      <td>2012-08</td>\n",
       "      <td>5200.0</td>\n",
       "    </tr>\n",
       "    <tr>\n",
       "      <th>2019</th>\n",
       "      <td>129</td>\n",
       "      <td>Med A</td>\n",
       "      <td>2012-09</td>\n",
       "      <td>5200.0</td>\n",
       "    </tr>\n",
       "    <tr>\n",
       "      <th>2020</th>\n",
       "      <td>129</td>\n",
       "      <td>Med A</td>\n",
       "      <td>2012-09</td>\n",
       "      <td>6500.0</td>\n",
       "    </tr>\n",
       "    <tr>\n",
       "      <th>2021</th>\n",
       "      <td>129</td>\n",
       "      <td>Med B</td>\n",
       "      <td>2012-09</td>\n",
       "      <td>10.0</td>\n",
       "    </tr>\n",
       "  </tbody>\n",
       "</table>\n",
       "<p>2022 rows × 4 columns</p>\n",
       "</div>"
      ],
      "text/plain": [
       "       Id    med admin_date   units\n",
       "0       1  Med A    2012-07  1500.0\n",
       "1       1  Med A    2012-07  1500.0\n",
       "2       1  Med A    2012-07  1500.0\n",
       "3       1  Med A    2012-07  1500.0\n",
       "4       1  Med A    2012-07  1500.0\n",
       "...   ...    ...        ...     ...\n",
       "2017  129  Med A    2012-08  5200.0\n",
       "2018  129  Med A    2012-08  5200.0\n",
       "2019  129  Med A    2012-09  5200.0\n",
       "2020  129  Med A    2012-09  6500.0\n",
       "2021  129  Med B    2012-09    10.0\n",
       "\n",
       "[2022 rows x 4 columns]"
      ]
     },
     "execution_count": 30,
     "metadata": {},
     "output_type": "execute_result"
    }
   ],
   "source": [
    "\n",
    "adminDF['admin_date'] = pd.to_datetime(adminDF['admin_date'], format='%d/%m/%Y')\n",
    "adminDF['admin_date'] = adminDF['admin_date'].dt.to_period('M')\n",
    "\n",
    "adminDF"
   ]
  },
  {
   "cell_type": "code",
   "execution_count": 31,
   "metadata": {},
   "outputs": [
    {
     "data": {
      "text/html": [
       "<div>\n",
       "<style scoped>\n",
       "    .dataframe tbody tr th:only-of-type {\n",
       "        vertical-align: middle;\n",
       "    }\n",
       "\n",
       "    .dataframe tbody tr th {\n",
       "        vertical-align: top;\n",
       "    }\n",
       "\n",
       "    .dataframe thead th {\n",
       "        text-align: right;\n",
       "    }\n",
       "</style>\n",
       "<table border=\"1\" class=\"dataframe\">\n",
       "  <thead>\n",
       "    <tr style=\"text-align: right;\">\n",
       "      <th></th>\n",
       "      <th>Id</th>\n",
       "      <th>units</th>\n",
       "    </tr>\n",
       "  </thead>\n",
       "  <tbody>\n",
       "    <tr>\n",
       "      <th>count</th>\n",
       "      <td>2022.000000</td>\n",
       "      <td>2022.000000</td>\n",
       "    </tr>\n",
       "    <tr>\n",
       "      <th>mean</th>\n",
       "      <td>66.767557</td>\n",
       "      <td>4805.909496</td>\n",
       "    </tr>\n",
       "    <tr>\n",
       "      <th>std</th>\n",
       "      <td>37.973341</td>\n",
       "      <td>4884.836594</td>\n",
       "    </tr>\n",
       "    <tr>\n",
       "      <th>min</th>\n",
       "      <td>1.000000</td>\n",
       "      <td>1.000000</td>\n",
       "    </tr>\n",
       "    <tr>\n",
       "      <th>25%</th>\n",
       "      <td>32.250000</td>\n",
       "      <td>1300.000000</td>\n",
       "    </tr>\n",
       "    <tr>\n",
       "      <th>50%</th>\n",
       "      <td>67.000000</td>\n",
       "      <td>3500.000000</td>\n",
       "    </tr>\n",
       "    <tr>\n",
       "      <th>75%</th>\n",
       "      <td>100.000000</td>\n",
       "      <td>6300.000000</td>\n",
       "    </tr>\n",
       "    <tr>\n",
       "      <th>max</th>\n",
       "      <td>129.000000</td>\n",
       "      <td>20000.000000</td>\n",
       "    </tr>\n",
       "  </tbody>\n",
       "</table>\n",
       "</div>"
      ],
      "text/plain": [
       "                Id         units\n",
       "count  2022.000000   2022.000000\n",
       "mean     66.767557   4805.909496\n",
       "std      37.973341   4884.836594\n",
       "min       1.000000      1.000000\n",
       "25%      32.250000   1300.000000\n",
       "50%      67.000000   3500.000000\n",
       "75%     100.000000   6300.000000\n",
       "max     129.000000  20000.000000"
      ]
     },
     "execution_count": 31,
     "metadata": {},
     "output_type": "execute_result"
    }
   ],
   "source": [
    "adminDF.describe()"
   ]
  },
  {
   "cell_type": "markdown",
   "metadata": {},
   "source": [
    "Total Monthly Medication Usage: What is the total number of units administered for each medication in each month across all patients?"
   ]
  },
  {
   "cell_type": "code",
   "execution_count": 32,
   "metadata": {},
   "outputs": [
    {
     "data": {
      "text/html": [
       "<div>\n",
       "<style scoped>\n",
       "    .dataframe tbody tr th:only-of-type {\n",
       "        vertical-align: middle;\n",
       "    }\n",
       "\n",
       "    .dataframe tbody tr th {\n",
       "        vertical-align: top;\n",
       "    }\n",
       "\n",
       "    .dataframe thead th {\n",
       "        text-align: right;\n",
       "    }\n",
       "</style>\n",
       "<table border=\"1\" class=\"dataframe\">\n",
       "  <thead>\n",
       "    <tr style=\"text-align: right;\">\n",
       "      <th></th>\n",
       "      <th>Month</th>\n",
       "      <th>Medication</th>\n",
       "      <th>Total_Units</th>\n",
       "    </tr>\n",
       "  </thead>\n",
       "  <tbody>\n",
       "    <tr>\n",
       "      <th>0</th>\n",
       "      <td>Jul</td>\n",
       "      <td>Med A</td>\n",
       "      <td>4303700.0</td>\n",
       "    </tr>\n",
       "    <tr>\n",
       "      <th>1</th>\n",
       "      <td>Aug</td>\n",
       "      <td>Med A</td>\n",
       "      <td>4477100.0</td>\n",
       "    </tr>\n",
       "    <tr>\n",
       "      <th>2</th>\n",
       "      <td>Sep</td>\n",
       "      <td>Med A</td>\n",
       "      <td>849900.0</td>\n",
       "    </tr>\n",
       "    <tr>\n",
       "      <th>3</th>\n",
       "      <td>Sep</td>\n",
       "      <td>Med B</td>\n",
       "      <td>535.0</td>\n",
       "    </tr>\n",
       "    <tr>\n",
       "      <th>4</th>\n",
       "      <td>Oct</td>\n",
       "      <td>Med B</td>\n",
       "      <td>393.0</td>\n",
       "    </tr>\n",
       "    <tr>\n",
       "      <th>5</th>\n",
       "      <td>Nov</td>\n",
       "      <td>Med A</td>\n",
       "      <td>75300.0</td>\n",
       "    </tr>\n",
       "    <tr>\n",
       "      <th>6</th>\n",
       "      <td>Nov</td>\n",
       "      <td>Med B</td>\n",
       "      <td>420.0</td>\n",
       "    </tr>\n",
       "    <tr>\n",
       "      <th>7</th>\n",
       "      <td>Dec</td>\n",
       "      <td>Med A</td>\n",
       "      <td>10200.0</td>\n",
       "    </tr>\n",
       "    <tr>\n",
       "      <th>8</th>\n",
       "      <td>Dec</td>\n",
       "      <td>Med B</td>\n",
       "      <td>1.0</td>\n",
       "    </tr>\n",
       "  </tbody>\n",
       "</table>\n",
       "</div>"
      ],
      "text/plain": [
       "  Month Medication  Total_Units\n",
       "0   Jul      Med A    4303700.0\n",
       "1   Aug      Med A    4477100.0\n",
       "2   Sep      Med A     849900.0\n",
       "3   Sep      Med B        535.0\n",
       "4   Oct      Med B        393.0\n",
       "5   Nov      Med A      75300.0\n",
       "6   Nov      Med B        420.0\n",
       "7   Dec      Med A      10200.0\n",
       "8   Dec      Med B          1.0"
      ]
     },
     "execution_count": 32,
     "metadata": {},
     "output_type": "execute_result"
    }
   ],
   "source": [
    "monthly_usage = adminDF.groupby(['admin_date', 'med'], sort=True)['units'].sum().reset_index()\n",
    "monthly_usage['admin_date'] = monthly_usage['admin_date'].dt.strftime('%b')\n",
    "\n",
    "monthly_usage.columns = ['Month', 'Medication', 'Total_Units']\n",
    "monthly_usage"
   ]
  },
  {
   "cell_type": "code",
   "execution_count": 40,
   "metadata": {},
   "outputs": [
    {
     "data": {
      "text/plain": [
       "Month          9\n",
       "Medication     9\n",
       "Total_Units    9\n",
       "dtype: int64"
      ]
     },
     "execution_count": 40,
     "metadata": {},
     "output_type": "execute_result"
    }
   ],
   "source": [
    "monthly_usage.isnull().count()"
   ]
  },
  {
   "cell_type": "code",
   "execution_count": 33,
   "metadata": {},
   "outputs": [
    {
     "data": {
      "image/png": "[encoded data removed]",
      "text/plain": [
       "<Figure size 1000x600 with 1 Axes>"
      ]
     },
     "metadata": {},
     "output_type": "display_data"
    }
   ],
   "source": [
    "# Plot the bar plot\n",
    "monthly_usage_pivot = monthly_usage.pivot(index='Month', columns='Medication', values='Total_Units')\n",
    "\n",
    "# Total units of Med A and Med B have large difference\n",
    "# Set logy=True for logarithmic scale\n",
    "monthly_usage_pivot.plot(kind='bar', figsize=(10, 6), logy=True)\n",
    "\n",
    "plt.title('Total Monthly Medication Usage', fontsize=16)\n",
    "plt.xlabel('Months (2012)', fontsize=12)\n",
    "plt.ylabel('Total Units Administered (log scale)', fontsize=12)\n",
    "plt.xticks(rotation=0)\n",
    "plt.tight_layout()\n",
    "plt.show()\n"
   ]
  },
  {
   "cell_type": "markdown",
   "metadata": {},
   "source": [
    "Patient Counts on Each Medication: How many patients received Medication A and Medication B from July to November?"
   ]
  },
  {
   "cell_type": "code",
   "execution_count": 34,
   "metadata": {},
   "outputs": [
    {
     "data": {
      "text/html": [
       "<div>\n",
       "<style scoped>\n",
       "    .dataframe tbody tr th:only-of-type {\n",
       "        vertical-align: middle;\n",
       "    }\n",
       "\n",
       "    .dataframe tbody tr th {\n",
       "        vertical-align: top;\n",
       "    }\n",
       "\n",
       "    .dataframe thead th {\n",
       "        text-align: right;\n",
       "    }\n",
       "</style>\n",
       "<table border=\"1\" class=\"dataframe\">\n",
       "  <thead>\n",
       "    <tr style=\"text-align: right;\">\n",
       "      <th></th>\n",
       "      <th>Month</th>\n",
       "      <th>Medication</th>\n",
       "      <th>Patient_Count</th>\n",
       "    </tr>\n",
       "  </thead>\n",
       "  <tbody>\n",
       "    <tr>\n",
       "      <th>0</th>\n",
       "      <td>Jul</td>\n",
       "      <td>Med A</td>\n",
       "      <td>92</td>\n",
       "    </tr>\n",
       "    <tr>\n",
       "      <th>1</th>\n",
       "      <td>Aug</td>\n",
       "      <td>Med A</td>\n",
       "      <td>92</td>\n",
       "    </tr>\n",
       "    <tr>\n",
       "      <th>2</th>\n",
       "      <td>Sep</td>\n",
       "      <td>Med A</td>\n",
       "      <td>73</td>\n",
       "    </tr>\n",
       "    <tr>\n",
       "      <th>3</th>\n",
       "      <td>Sep</td>\n",
       "      <td>Med B</td>\n",
       "      <td>76</td>\n",
       "    </tr>\n",
       "    <tr>\n",
       "      <th>4</th>\n",
       "      <td>Oct</td>\n",
       "      <td>Med B</td>\n",
       "      <td>66</td>\n",
       "    </tr>\n",
       "    <tr>\n",
       "      <th>5</th>\n",
       "      <td>Nov</td>\n",
       "      <td>Med B</td>\n",
       "      <td>72</td>\n",
       "    </tr>\n",
       "    <tr>\n",
       "      <th>6</th>\n",
       "      <td>Nov</td>\n",
       "      <td>Med A</td>\n",
       "      <td>4</td>\n",
       "    </tr>\n",
       "  </tbody>\n",
       "</table>\n",
       "</div>"
      ],
      "text/plain": [
       "  Month Medication  Patient_Count\n",
       "0   Jul      Med A             92\n",
       "1   Aug      Med A             92\n",
       "2   Sep      Med A             73\n",
       "3   Sep      Med B             76\n",
       "4   Oct      Med B             66\n",
       "5   Nov      Med B             72\n",
       "6   Nov      Med A              4"
      ]
     },
     "execution_count": 34,
     "metadata": {},
     "output_type": "execute_result"
    }
   ],
   "source": [
    "filtered_data = adminDF[(adminDF['admin_date'] >= '2012-07') & (adminDF['admin_date'] <= '2012-11')]\n",
    "filtered_data['month'] = filtered_data['admin_date'].dt.strftime('%b') \n",
    "\n",
    "patient_count = filtered_data.groupby(['month', 'med'], sort=False)['Id'].nunique().reset_index()\n",
    "\n",
    "patient_count.columns = ['Month', 'Medication', 'Patient_Count']\n",
    "patient_count"
   ]
  },
  {
   "cell_type": "code",
   "execution_count": 35,
   "metadata": {},
   "outputs": [
    {
     "data": {
      "image/png": "[encoded data removed]",
      "text/plain": [
       "<Figure size 1000x600 with 1 Axes>"
      ]
     },
     "metadata": {},
     "output_type": "display_data"
    }
   ],
   "source": [
    "# Plot the bar plot\n",
    "patient_count_pivot = patient_count.pivot(index='Month', columns='Medication', values='Patient_Count')\n",
    "\n",
    "patient_count_pivot.plot(kind='bar', figsize=(10, 6))\n",
    "\n",
    "plt.title('Total Monthly Patient Count', fontsize=16)\n",
    "plt.xlabel('Months (2012)', fontsize=12)\n",
    "plt.ylabel('Total Patient Count', fontsize=12)\n",
    "plt.xticks(rotation=0)\n",
    "plt.tight_layout()\n",
    "plt.show()"
   ]
  },
  {
   "cell_type": "markdown",
   "metadata": {},
   "source": [
    "Average Monthly Dose per Patient: What is the average total monthly dose per patient for each medication from July to November"
   ]
  },
  {
   "cell_type": "code",
   "execution_count": 36,
   "metadata": {},
   "outputs": [
    {
     "data": {
      "text/html": [
       "<div>\n",
       "<style scoped>\n",
       "    .dataframe tbody tr th:only-of-type {\n",
       "        vertical-align: middle;\n",
       "    }\n",
       "\n",
       "    .dataframe tbody tr th {\n",
       "        vertical-align: top;\n",
       "    }\n",
       "\n",
       "    .dataframe thead th {\n",
       "        text-align: right;\n",
       "    }\n",
       "</style>\n",
       "<table border=\"1\" class=\"dataframe\">\n",
       "  <thead>\n",
       "    <tr style=\"text-align: right;\">\n",
       "      <th></th>\n",
       "      <th>Month</th>\n",
       "      <th>Medication</th>\n",
       "      <th>Avg_Dose_Per_Patient</th>\n",
       "    </tr>\n",
       "  </thead>\n",
       "  <tbody>\n",
       "    <tr>\n",
       "      <th>0</th>\n",
       "      <td>Jul</td>\n",
       "      <td>Med A</td>\n",
       "      <td>46779.35</td>\n",
       "    </tr>\n",
       "    <tr>\n",
       "      <th>1</th>\n",
       "      <td>Aug</td>\n",
       "      <td>Med A</td>\n",
       "      <td>48664.13</td>\n",
       "    </tr>\n",
       "    <tr>\n",
       "      <th>2</th>\n",
       "      <td>Sep</td>\n",
       "      <td>Med A</td>\n",
       "      <td>11642.47</td>\n",
       "    </tr>\n",
       "    <tr>\n",
       "      <th>3</th>\n",
       "      <td>Sep</td>\n",
       "      <td>Med B</td>\n",
       "      <td>7.04</td>\n",
       "    </tr>\n",
       "    <tr>\n",
       "      <th>4</th>\n",
       "      <td>Oct</td>\n",
       "      <td>Med B</td>\n",
       "      <td>5.95</td>\n",
       "    </tr>\n",
       "    <tr>\n",
       "      <th>5</th>\n",
       "      <td>Nov</td>\n",
       "      <td>Med B</td>\n",
       "      <td>5.83</td>\n",
       "    </tr>\n",
       "    <tr>\n",
       "      <th>6</th>\n",
       "      <td>Nov</td>\n",
       "      <td>Med A</td>\n",
       "      <td>18825.00</td>\n",
       "    </tr>\n",
       "  </tbody>\n",
       "</table>\n",
       "</div>"
      ],
      "text/plain": [
       "  Month Medication  Avg_Dose_Per_Patient\n",
       "0   Jul      Med A              46779.35\n",
       "1   Aug      Med A              48664.13\n",
       "2   Sep      Med A              11642.47\n",
       "3   Sep      Med B                  7.04\n",
       "4   Oct      Med B                  5.95\n",
       "5   Nov      Med B                  5.83\n",
       "6   Nov      Med A              18825.00"
      ]
     },
     "execution_count": 36,
     "metadata": {},
     "output_type": "execute_result"
    }
   ],
   "source": [
    "dose_per_patient = filtered_data.groupby(['month', 'med', 'Id'], sort=False)['units'].sum().reset_index()\n",
    "\n",
    "avg_dose_per_patient = dose_per_patient.groupby(['month', 'med'], sort=False)['units'].mean().reset_index()\n",
    "\n",
    "avg_dose_per_patient['units'] = round(avg_dose_per_patient['units'], 2)\n",
    "\n",
    "avg_dose_per_patient.columns = ['Month', 'Medication', 'Avg_Dose_Per_Patient']\n",
    "avg_dose_per_patient"
   ]
  },
  {
   "cell_type": "code",
   "execution_count": 37,
   "metadata": {},
   "outputs": [
    {
     "data": {
      "image/png": "[encoded data removed]",
      "text/plain": [
       "<Figure size 1000x600 with 1 Axes>"
      ]
     },
     "metadata": {},
     "output_type": "display_data"
    }
   ],
   "source": [
    "# Plot the bar plot\n",
    "avg_dose_pivot = avg_dose_per_patient.pivot(index='Month', columns='Medication', values='Avg_Dose_Per_Patient')\n",
    "\n",
    "avg_dose_pivot.plot(kind='bar', figsize=(10, 6), logy=True)\n",
    "\n",
    "plt.title('Average Dose per Patient', fontsize=16)\n",
    "plt.xlabel('Months (2012)', fontsize=12)\n",
    "plt.ylabel('Average Dose (Log Scale)', fontsize=12)\n",
    "plt.xticks(rotation=0)\n",
    "plt.tight_layout()\n",
    "plt.show()"
   ]
  },
  {
   "cell_type": "markdown",
   "metadata": {},
   "source": [
    "How many patients switched from Medication A to Medication B each month (September, October, November)?"
   ]
  },
  {
   "cell_type": "code",
   "execution_count": 38,
   "metadata": {},
   "outputs": [
    {
     "data": {
      "text/html": [
       "<div>\n",
       "<style scoped>\n",
       "    .dataframe tbody tr th:only-of-type {\n",
       "        vertical-align: middle;\n",
       "    }\n",
       "\n",
       "    .dataframe tbody tr th {\n",
       "        vertical-align: top;\n",
       "    }\n",
       "\n",
       "    .dataframe thead th {\n",
       "        text-align: right;\n",
       "    }\n",
       "</style>\n",
       "<table border=\"1\" class=\"dataframe\">\n",
       "  <thead>\n",
       "    <tr style=\"text-align: right;\">\n",
       "      <th></th>\n",
       "      <th>Month</th>\n",
       "      <th>Switch_Count_A_to_B</th>\n",
       "    </tr>\n",
       "  </thead>\n",
       "  <tbody>\n",
       "    <tr>\n",
       "      <th>2</th>\n",
       "      <td>Sep</td>\n",
       "      <td>6</td>\n",
       "    </tr>\n",
       "    <tr>\n",
       "      <th>1</th>\n",
       "      <td>Oct</td>\n",
       "      <td>10</td>\n",
       "    </tr>\n",
       "    <tr>\n",
       "      <th>0</th>\n",
       "      <td>Nov</td>\n",
       "      <td>51</td>\n",
       "    </tr>\n",
       "  </tbody>\n",
       "</table>\n",
       "</div>"
      ],
      "text/plain": [
       "  Month  Switch_Count_A_to_B\n",
       "2   Sep                    6\n",
       "1   Oct                   10\n",
       "0   Nov                   51"
      ]
     },
     "execution_count": 38,
     "metadata": {},
     "output_type": "execute_result"
    }
   ],
   "source": [
    "filtered_data = adminDF[(adminDF['admin_date'] >= '2012-09-01') & (adminDF['admin_date'] <= '2012-11-30')]\n",
    "filtered_data['admin_date'] = filtered_data['admin_date'].dt.strftime(\"%b\")\n",
    "\n",
    "filtered_data = filtered_data.sort_values(by=['Id', 'admin_date'])\n",
    "\n",
    "switch_count = filtered_data.groupby(['Id', 'med', 'admin_date']).size().reset_index(name='count')\n",
    "\n",
    "switch_count['previous_medication'] = switch_count.groupby('Id')['med'].shift(1)\n",
    "\n",
    "switch_medication = switch_count[(switch_count['previous_medication'] == 'Med A') & (switch_count['med'] == 'Med B')]\n",
    "\n",
    "total_patient_switch_count = switch_medication.groupby('admin_date')['Id'].nunique().reset_index()\n",
    "\n",
    "total_patient_switch_count.columns = ['Month', 'Switch_Count_A_to_B']\n",
    "total_patient_switch_count.sort_values(by=['Month'], ascending=False)"
   ]
  },
  {
   "cell_type": "markdown",
   "metadata": {},
   "source": [
    "How many patients started on Medication B without being on Medication A in the past (September, October, November)?"
   ]
  },
  {
   "cell_type": "code",
   "execution_count": 39,
   "metadata": {},
   "outputs": [
    {
     "data": {
      "text/html": [
       "<div>\n",
       "<style scoped>\n",
       "    .dataframe tbody tr th:only-of-type {\n",
       "        vertical-align: middle;\n",
       "    }\n",
       "\n",
       "    .dataframe tbody tr th {\n",
       "        vertical-align: top;\n",
       "    }\n",
       "\n",
       "    .dataframe thead th {\n",
       "        text-align: right;\n",
       "    }\n",
       "</style>\n",
       "<table border=\"1\" class=\"dataframe\">\n",
       "  <thead>\n",
       "    <tr style=\"text-align: right;\">\n",
       "      <th></th>\n",
       "      <th>Month</th>\n",
       "      <th>Switch_Count_on_B</th>\n",
       "    </tr>\n",
       "  </thead>\n",
       "  <tbody>\n",
       "    <tr>\n",
       "      <th>2</th>\n",
       "      <td>Sep</td>\n",
       "      <td>62</td>\n",
       "    </tr>\n",
       "    <tr>\n",
       "      <th>1</th>\n",
       "      <td>Oct</td>\n",
       "      <td>55</td>\n",
       "    </tr>\n",
       "    <tr>\n",
       "      <th>0</th>\n",
       "      <td>Nov</td>\n",
       "      <td>50</td>\n",
       "    </tr>\n",
       "  </tbody>\n",
       "</table>\n",
       "</div>"
      ],
      "text/plain": [
       "  Month  Switch_Count_on_B\n",
       "2   Sep                 62\n",
       "1   Oct                 55\n",
       "0   Nov                 50"
      ]
     },
     "execution_count": 39,
     "metadata": {},
     "output_type": "execute_result"
    }
   ],
   "source": [
    "filtered_data = adminDF[(adminDF['admin_date'] >= '2012-09-01') & (adminDF['admin_date'] <= '2012-11-30') & (adminDF['med'] == 'Med B')]\n",
    "filtered_data['admin_date'] = filtered_data['admin_date'].dt.strftime(\"%b\")\n",
    "\n",
    "filtered_data = filtered_data.sort_values(by=['Id', 'admin_date'])\n",
    "\n",
    "switch_count_sec = filtered_data.groupby(['Id', 'med', 'admin_date']).size().reset_index(name='count')\n",
    "\n",
    "switch_count_sec['previous_medication'] = switch_count.groupby('Id')['med'].shift(1)\n",
    "\n",
    "switch_medication_sec = switch_count_sec[(switch_count_sec['previous_medication'] != 'Med A') & (switch_count_sec['med'] == 'Med B')]\n",
    "\n",
    "total_patient_on_B = switch_medication_sec.groupby('admin_date')['Id'].nunique().reset_index()\n",
    "\n",
    "total_patient_on_B.columns = ['Month', 'Switch_Count_on_B']\n",
    "total_patient_on_B = total_patient_on_B.sort_values(by=['Month'], ascending=False)\n",
    "total_patient_on_B"
   ]
  },
  {
   "cell_type": "code",
   "execution_count": null,
   "metadata": {},
   "outputs": [],
   "source": []
  }
 ],
 "metadata": {
  "kernelspec": {
   "display_name": "menv",
   "language": "python",
   "name": "python3"
  },
  "language_info": {
   "codemirror_mode": {
    "name": "ipython",
    "version": 3
   },
   "file_extension": ".py",
   "mimetype": "text/x-python",
   "name": "python",
   "nbconvert_exporter": "python",
   "pygments_lexer": "ipython3",
   "version": "3.9.18"
  }
 },
 "nbformat": 4,
 "nbformat_minor": 2
}
